{
 "cells": [
  {
   "cell_type": "markdown",
   "id": "e7c2c6c2",
   "metadata": {},
   "source": [
    "# T20 World Cup 2022 Analysis\n",
    "***"
   ]
  },
  {
   "cell_type": "code",
   "execution_count": null,
   "id": "e4e7eef4",
   "metadata": {},
   "outputs": [],
   "source": [
    "import pandas as pd\n",
    "import plotly.express as px\n",
    "import plotly.graph_objects as go\n",
    "import plotly.io as pio\n",
    "pio.templates.default = \"plotly_white\""
   ]
  },
  {
   "cell_type": "markdown",
   "id": "d390f1a1",
   "metadata": {},
   "source": [
    "### Let's see the number of matches won by each team\n",
    "***"
   ]
  },
  {
   "cell_type": "code",
   "execution_count": null,
   "id": "bc491998",
   "metadata": {},
   "outputs": [],
   "source": [
    "matches_won = px.bar(data, \n",
    "                x=data[\"winner\"],\n",
    "                title=\"Number of Matches Won by teams in t20 World Cup\")"
   ]
  },
  {
   "cell_type": "code",
   "execution_count": null,
   "id": "a6521d85",
   "metadata": {},
   "outputs": [],
   "source": [
    "matches_won.show()"
   ]
  },
  {
   "cell_type": "markdown",
   "id": "0a5c6fea",
   "metadata": {},
   "source": [
    "**As England won the t20 world cup 2022, England won five matches. And Both Pakistan and India won 4 matches.**"
   ]
  },
  {
   "cell_type": "markdown",
   "id": "eba31320",
   "metadata": {},
   "source": [
    "### Now let’s have a look at the number of matches won by batting first or second in the t20 world cup 2022:\n",
    "***\n",
    "- Won by Wickets = Won by Batting 2nd\n",
    "- Won by Runs = Won by Batting 1st"
   ]
  },
  {
   "cell_type": "code",
   "execution_count": null,
   "id": "bd6bf462",
   "metadata": {},
   "outputs": [],
   "source": [
    "data[\"won by\"].value_counts()"
   ]
  },
  {
   "cell_type": "code",
   "execution_count": null,
   "id": "b86cc323",
   "metadata": {},
   "outputs": [],
   "source": [
    "won_by = data[\"won by\"].value_counts() #count of matches won by runs or wickets\n",
    "label = won_by.index #category labels (\"Runs\" and \"Wickets\")\n",
    "counts = won_by.values #corresponding count of matches won\n",
    "colors = ['gold','lightgreen'] # gold=won by runs, lightgreen=won by wickets\n",
    "\n",
    "fig = go.Figure(data=[go.Pie(labels=label, values=counts)])\n",
    "fig.update_layout(title_text='Number of Matches Won By Runs(Batting 1st) Or Wickets(Batting 2nd)') \n",
    "fig.update_traces(hoverinfo='label+percent', textinfo='value', textfont_size=30,\n",
    "                  marker=dict(colors=colors, line=dict(color='black', width=3)))\n",
    "fig.show()"
   ]
  },
  {
   "cell_type": "markdown",
   "id": "59743173",
   "metadata": {},
   "source": [
    "**So in the t20 world cup 2022, 16 matches were won by batting first, and 13 matches were won by chasing**"
   ]
  },
  {
   "cell_type": "markdown",
   "id": "89359efe",
   "metadata": {},
   "source": [
    "## Now, let’s have a look at the toss decisions by teams in the world cup:\n",
    "***"
   ]
  },
  {
   "cell_type": "code",
   "execution_count": null,
   "id": "6d40169f",
   "metadata": {},
   "outputs": [],
   "source": [
    "toss = data[\"toss decision\"].value_counts()\n",
    "label = toss.index\n",
    "counts = toss.values\n",
    "colors = ['skyblue','yellow']\n",
    "\n",
    "fig = go.Figure(data=[go.Pie(labels=label, values=counts)])\n",
    "fig.update_layout(title_text='Toss Decisions in t20 World Cup 2022')\n",
    "fig.update_traces(hoverinfo='label+percent', textinfo='value', textfont_size=30,\n",
    "                  marker=dict(colors=colors, line=dict(color='black', width=3)))\n",
    "fig.show()"
   ]
  },
  {
   "cell_type": "markdown",
   "id": "92705a00",
   "metadata": {},
   "source": [
    "**So in 17 matches, the teams decided to bat first, and in 13 matches, the teams chose to field first**"
   ]
  },
  {
   "cell_type": "markdown",
   "id": "36370842",
   "metadata": {},
   "source": [
    "## Now let’s have a look at the top scorers in the t20 world cup 2022:\n",
    "***"
   ]
  },
  {
   "cell_type": "code",
   "execution_count": null,
   "id": "97b49bf3",
   "metadata": {},
   "outputs": [],
   "source": [
    "figure = px.bar(data, \n",
    "                x=data[\"top scorer\"], \n",
    "                y = data[\"highest score\"], \n",
    "                color = data[\"highest score\"],\n",
    "                title=\"Top Scorers in t20 World Cup 2022\")\n",
    "figure.show()"
   ]
  },
  {
   "cell_type": "markdown",
   "id": "58ef54d6",
   "metadata": {},
   "source": [
    "**So, Virat Kohli scored the highest in 3 matches. Undoubtedly, he was the best batsman in the t20 world cup 2022**"
   ]
  },
  {
   "cell_type": "markdown",
   "id": "67e5248d",
   "metadata": {},
   "source": [
    "## Now let’s have a look at the number of player of the match awards in the world cup:\n",
    "***"
   ]
  },
  {
   "cell_type": "code",
   "execution_count": null,
   "id": "76f797e1",
   "metadata": {},
   "outputs": [],
   "source": [
    "figure = px.bar(data, \n",
    "                x = data[\"player of the match\"], \n",
    "                title=\"Player of the Match Awards in t20 World Cup 2022\")\n",
    "figure.show()"
   ]
  },
  {
   "cell_type": "markdown",
   "id": "90475c65",
   "metadata": {},
   "source": [
    "**Virat Kohli, Sam Curran, Taskin Ahmed, Suryakumar Yadav, and Shadab Khan got the player of the match in 2 matches. No player got the player of the match award in more than two matches.**"
   ]
  },
  {
   "cell_type": "markdown",
   "id": "64a6f161",
   "metadata": {},
   "source": [
    "## Now let’s have a look at the bowlers with the best bowling figures at the end of the matches:\n",
    "***"
   ]
  },
  {
   "cell_type": "code",
   "execution_count": null,
   "id": "d870d180",
   "metadata": {},
   "outputs": [],
   "source": [
    "figure = px.bar(data, \n",
    "                x=data[\"best bowler\"],\n",
    "                title=\"Best Bowlers in t20 World Cup 2022\")\n",
    "figure.show()"
   ]
  },
  {
   "cell_type": "markdown",
   "id": "05981777",
   "metadata": {},
   "source": [
    "**Sam Curran was the only best bowler in 3 matches. Undoubtedly, he deserved to be the player of the tournament.**"
   ]
  },
  {
   "cell_type": "markdown",
   "id": "15002094",
   "metadata": {},
   "source": [
    "## Now let’s compare the runs scored in the first innings and second innings in every stadium of the t20 world cup 2022:\n",
    "***"
   ]
  },
  {
   "cell_type": "code",
   "execution_count": null,
   "id": "50fed409",
   "metadata": {},
   "outputs": [],
   "source": [
    "fig = go.Figure()\n",
    "fig.add_trace(go.Bar(\n",
    "    x=data[\"venue\"],\n",
    "    y=data[\"first innings score\"],\n",
    "    name='First Innings Runs',\n",
    "    marker_color='blue'\n",
    "))\n",
    "fig.add_trace(go.Bar(\n",
    "    x=data[\"venue\"],\n",
    "    y=data[\"second innings score\"],\n",
    "    name='Second Innings Runs',\n",
    "    marker_color='red'\n",
    "))\n",
    "fig.update_layout(barmode='group', \n",
    "                  xaxis_tickangle=-45, \n",
    "                  title=\"Best Stadiums to Bat First or Chase\")\n",
    "fig.show()"
   ]
  },
  {
   "cell_type": "markdown",
   "id": "f1f0fc21",
   "metadata": {},
   "source": [
    "**So SCG was the only stadium in the world cup that was best for batting first. Other stadiums didn’t make much difference while batting first or chasing**"
   ]
  },
  {
   "cell_type": "markdown",
   "id": "e2ee839e",
   "metadata": {},
   "source": [
    "## Now let’s compare the number of wickets lost in the first innings and second innings in every stadium of the t20 world cup 2022:\n",
    "***"
   ]
  },
  {
   "cell_type": "code",
   "execution_count": null,
   "id": "616780ec",
   "metadata": {},
   "outputs": [],
   "source": [
    "fig = go.Figure()\n",
    "fig.add_trace(go.Bar(\n",
    "    x=data[\"venue\"],\n",
    "    y=data[\"first innings wickets\"],\n",
    "    name='First Innings Wickets',\n",
    "    marker_color='blue'\n",
    "))\n",
    "fig.add_trace(go.Bar(\n",
    "    x=data[\"venue\"],\n",
    "    y=data[\"second innings wickets\"],\n",
    "    name='Second Innings Wickets',\n",
    "    marker_color='red'\n",
    "))\n",
    "fig.update_layout(barmode='group', \n",
    "                  xaxis_tickangle=-45, \n",
    "                  title=\"Best Statiums to Bowl First or Defend\")\n",
    "fig.show()"
   ]
  },
  {
   "cell_type": "markdown",
   "id": "c6233e5e",
   "metadata": {},
   "source": [
    "**SCG was the best stadium to bowl while defending the target. While the Optus Stadium was the best stadium to bowl first.**"
   ]
  },
  {
   "cell_type": "markdown",
   "id": "a0661f6e",
   "metadata": {},
   "source": [
    "## Summary of T20 World Cup 2022\n",
    "***\n",
    "- England won the most number of matches\n",
    "- Virat Kohli scored highest in the most number of matches\n",
    "- Sam Curran was the best bowler in the most number of matches\n",
    "- More teams won by batting first\n",
    "- More teams decided to bat first\n",
    "- SCG was the best stadium to bat first\n",
    "- SCG was the best stadium to defend the target in the World Cup\n",
    "- The Optus Stadium was the best stadium to bowl first"
   ]
  },
  {
   "cell_type": "code",
   "execution_count": null,
   "id": "dc78ab70",
   "metadata": {},
   "outputs": [],
   "source": []
  }
 ],
 "metadata": {
  "kernelspec": {
   "display_name": "Python 3 (ipykernel)",
   "language": "python",
   "name": "python3"
  },
  "language_info": {
   "codemirror_mode": {
    "name": "ipython",
    "version": 3
   },
   "file_extension": ".py",
   "mimetype": "text/x-python",
   "name": "python",
   "nbconvert_exporter": "python",
   "pygments_lexer": "ipython3",
   "version": "3.9.13"
  }
 },
 "nbformat": 4,
 "nbformat_minor": 5
}
